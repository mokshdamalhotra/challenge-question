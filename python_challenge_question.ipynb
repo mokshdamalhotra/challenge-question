{
  "nbformat": 4,
  "nbformat_minor": 0,
  "metadata": {
    "colab": {
      "provenance": [],
      "authorship_tag": "ABX9TyOn9BfGnGTTIT9F4RCeGtae",
      "include_colab_link": true
    },
    "kernelspec": {
      "name": "python3",
      "display_name": "Python 3"
    },
    "language_info": {
      "name": "python"
    }
  },
  "cells": [
    {
      "cell_type": "markdown",
      "metadata": {
        "id": "view-in-github",
        "colab_type": "text"
      },
      "source": [
        "<a href=\"https://colab.research.google.com/github/mokshdamalhotra/challenge-question/blob/main/python_challenge_question.ipynb\" target=\"_parent\"><img src=\"https://colab.research.google.com/assets/colab-badge.svg\" alt=\"Open In Colab\"/></a>"
      ]
    },
    {
      "cell_type": "code",
      "execution_count": null,
      "metadata": {
        "id": "WxgPVdPeDn5H"
      },
      "outputs": [],
      "source": [
        "'''Q. Write a python program to sort the list of heterogeneous data.\n",
        "eg.\n",
        "L=[\"Ram\", 1, \"Shyam\", 2, \"Aman\", 3]\n",
        "print(L)\n",
        "L.sort()\n",
        "print(L)'''\n",
        "L=[\"Ram\", 1, \"Shyam\", 2, \"Aman\", 3]\n",
        "def list_sort(L):\n",
        "    L_str,L_int,L_float,L_complex=[],[],[],[]\n",
        "    for i in L:\n",
        "        if type(i)==str:\n",
        "            L_str.append(i)\n",
        "        elif type(i)==int:\n",
        "            L_int.append(i)\n",
        "        elif type(i)==float:\n",
        "            L_float.append(i)\n",
        "        elif type(i)==complex:\n",
        "            L_complex.append(i)\n",
        "        elif type(i)==list:\n",
        "            list_sort(i)\n",
        "            L_list=i\n",
        "        elif type(i)==tuple:\n",
        "            L_tuple=list(i)\n",
        "            list_sort(L_tuple)\n",
        "            L_tuple=tuple(L_tuple)\n",
        "        elif type(i)==dict:\n",
        "            L_dict=list(i.items())\n",
        "            list_sort(L_dict)\n",
        "            L_dict=dict(L_dict)\n",
        "        elif type(i)==set:\n",
        "            L_set=list(i)\n",
        "            list_sort(L_set)\n",
        "            L_set=set(L_set)\n",
        "        else:\n",
        "            print(\"i cri\")\n",
        "    L_str.sort()\n",
        "    L_int.sort()\n",
        "    L_float.sort()\n",
        "    L_complex.sort()\n",
        "    L=L_str+L_int+L_float+L_complex\n",
        "    try:\n",
        "        L.append(L_dict)\n",
        "    except:\n",
        "        print(\"\")\n",
        "    try:\n",
        "        L.append(L_set)\n",
        "    except:\n",
        "        print(\"\")\n",
        "    try:\n",
        "        L.append(L_list)\n",
        "    except:\n",
        "        print(\"\")\n",
        "    try:\n",
        "        L.append(L_tuple)\n",
        "    except:\n",
        "        print(\"\")\n",
        "    print(\"sorted list:\",L)\n",
        "list_sort(L)"
      ]
    }
  ]
}